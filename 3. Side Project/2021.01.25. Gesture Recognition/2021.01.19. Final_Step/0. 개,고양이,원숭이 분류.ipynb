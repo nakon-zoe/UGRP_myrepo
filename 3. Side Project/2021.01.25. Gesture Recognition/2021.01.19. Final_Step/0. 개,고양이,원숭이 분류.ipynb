{
 "cells": [
  {
   "cell_type": "markdown",
   "metadata": {},
   "source": [
    "# 디렉토리 설정 및 이미지데이터 전처리"
   ]
  },
  {
   "cell_type": "code",
   "execution_count": 1,
   "metadata": {},
   "outputs": [],
   "source": [
    "import glob\n",
    "import numpy as np\n",
    "from PIL import Image\n",
    "from sklearn.model_selection import train_test_split"
   ]
  },
  {
   "cell_type": "code",
   "execution_count": 2,
   "metadata": {},
   "outputs": [],
   "source": [
    "# 디렉토리 설정\n",
    "base_dir = './0. Animal_Data/'\n",
    "categories = ['cats', 'dogs', 'monkeys']\n",
    "nb_classes = len(categories)"
   ]
  },
  {
   "cell_type": "code",
   "execution_count": 3,
   "metadata": {},
   "outputs": [],
   "source": [
    "# 이미지 크기 지정\n",
    "image_w = 256\n",
    "image_h = 256\n",
    "pixels = image_w*image_h*3"
   ]
  },
  {
   "cell_type": "code",
   "execution_count": 4,
   "metadata": {
    "scrolled": true
   },
   "outputs": [],
   "source": [
    "# 이미지데이터 읽어들이기\n",
    "X = []\n",
    "Y = []\n",
    "for idx, category in enumerate(categories):\n",
    "    # 레이블 지정\n",
    "    label = [0 for i in range(nb_classes)]\n",
    "    label[idx] = 1\n",
    "    \n",
    "    # 이미지\n",
    "    image_dir = base_dir+category+'/*'\n",
    "    files = glob.glob(image_dir)\n",
    "    \n",
    "    for i, f in enumerate(files):\n",
    "        img = Image.open(f)\n",
    "        img = img.convert(\"RGB\")\n",
    "        img = img.resize((image_w, image_h))\n",
    "        data = np.asarray(img)\n",
    "        X.append(data)\n",
    "        Y.append(label)\n",
    "    \n",
    "X = np.array(X)\n",
    "Y = np.array(Y)\n",
    "\n",
    "# 학습 전용 데이터와 테스트 전용 데이터로 구분\n",
    "X_train, X_test, y_train, y_test = train_test_split(X, Y)"
   ]
  },
  {
   "cell_type": "code",
   "execution_count": 5,
   "metadata": {},
   "outputs": [
    {
     "name": "stdout",
     "output_type": "stream",
     "text": [
      "X_train shape: (5092, 256, 256, 3)\n",
      "X_test shape: (1698, 256, 256, 3)\n"
     ]
    }
   ],
   "source": [
    "# 데이터 정규화하기(0~1사이로)\n",
    "X_train = X_train.astype(\"float\") / 256\n",
    "X_test  = X_test.astype(\"float\")  / 256\n",
    "print('X_train shape:', X_train.shape)\n",
    "print('X_test shape:', X_test.shape)"
   ]
  },
  {
   "cell_type": "code",
   "execution_count": 6,
   "metadata": {},
   "outputs": [
    {
     "name": "stdout",
     "output_type": "stream",
     "text": [
      "WARNING:tensorflow:From C:\\Users\\nakhe\\Anaconda3\\envs\\tensor1_gpu\\lib\\site-packages\\tensorflow\\python\\ops\\resource_variable_ops.py:435: colocate_with (from tensorflow.python.framework.ops) is deprecated and will be removed in a future version.\n",
      "Instructions for updating:\n",
      "Colocations handled automatically by placer.\n",
      "WARNING:tensorflow:From C:\\Users\\nakhe\\Anaconda3\\envs\\tensor1_gpu\\lib\\site-packages\\tensorflow\\python\\keras\\layers\\core.py:143: calling dropout (from tensorflow.python.ops.nn_ops) with keep_prob is deprecated and will be removed in a future version.\n",
      "Instructions for updating:\n",
      "Please use `rate` instead of `keep_prob`. Rate should be set to `rate = 1 - keep_prob`.\n",
      "_________________________________________________________________\n",
      "Layer (type)                 Output Shape              Param #   \n",
      "=================================================================\n",
      "conv2d (Conv2D)              (None, 256, 256, 32)      896       \n",
      "_________________________________________________________________\n",
      "max_pooling2d (MaxPooling2D) (None, 128, 128, 32)      0         \n",
      "_________________________________________________________________\n",
      "dropout (Dropout)            (None, 128, 128, 32)      0         \n",
      "_________________________________________________________________\n",
      "conv2d_1 (Conv2D)            (None, 128, 128, 32)      9248      \n",
      "_________________________________________________________________\n",
      "max_pooling2d_1 (MaxPooling2 (None, 64, 64, 32)        0         \n",
      "_________________________________________________________________\n",
      "dropout_1 (Dropout)          (None, 64, 64, 32)        0         \n",
      "_________________________________________________________________\n",
      "conv2d_2 (Conv2D)            (None, 64, 64, 64)        18496     \n",
      "_________________________________________________________________\n",
      "max_pooling2d_2 (MaxPooling2 (None, 32, 32, 64)        0         \n",
      "_________________________________________________________________\n",
      "dropout_2 (Dropout)          (None, 32, 32, 64)        0         \n",
      "_________________________________________________________________\n",
      "flatten (Flatten)            (None, 65536)             0         \n",
      "_________________________________________________________________\n",
      "dropout_3 (Dropout)          (None, 65536)             0         \n",
      "_________________________________________________________________\n",
      "dense (Dense)                (None, 128)               8388736   \n",
      "_________________________________________________________________\n",
      "dropout_4 (Dropout)          (None, 128)               0         \n",
      "_________________________________________________________________\n",
      "dense_1 (Dense)              (None, 3)                 387       \n",
      "=================================================================\n",
      "Total params: 8,417,763\n",
      "Trainable params: 8,417,763\n",
      "Non-trainable params: 0\n",
      "_________________________________________________________________\n"
     ]
    }
   ],
   "source": [
    "from tensorflow.keras.models import Sequential\n",
    "from tensorflow.keras.layers import MaxPooling2D\n",
    "from tensorflow.keras.layers import Conv2D\n",
    "from tensorflow.keras.layers import Activation, Dropout, Flatten, Dense\n",
    "\n",
    "# 모델 구조 정의 \n",
    "model = Sequential()\n",
    "model.add(Conv2D(32, (3, 3), (1, 1), input_shape=X_train.shape[1:], padding='same', activation='relu'))\n",
    "model.add(MaxPooling2D(pool_size=(2, 2)))\n",
    "model.add(Dropout(0.3))\n",
    "model.add(Conv2D(32, (3, 3), (1, 1), padding='same', activation='relu'))\n",
    "model.add(MaxPooling2D(pool_size=(2, 2)))\n",
    "model.add(Dropout(0.3))\n",
    "model.add(Conv2D(64, (3, 3), (1, 1), padding='same', activation='relu'))\n",
    "model.add(MaxPooling2D(pool_size=(2, 2)))\n",
    "model.add(Dropout(0.5))\n",
    "\n",
    "# 전결합층\n",
    "model.add(Flatten())\n",
    "model.add(Dropout(0.2))\n",
    "model.add(Dense(128, activation = 'relu'))\n",
    "model.add(Dropout(0.5))\n",
    "model.add(Dense(nb_classes, activation='softmax'))\n",
    "\n",
    "model.summary()"
   ]
  },
  {
   "cell_type": "code",
   "execution_count": 7,
   "metadata": {},
   "outputs": [],
   "source": [
    "# 모델 구축하기\n",
    "from tensorflow.keras import metrics\n",
    "model.compile(loss='categorical_crossentropy', optimizer='adam', metrics=[metrics.CategoricalAccuracy()])"
   ]
  },
  {
   "cell_type": "code",
   "execution_count": null,
   "metadata": {
    "scrolled": false
   },
   "outputs": [
    {
     "name": "stdout",
     "output_type": "stream",
     "text": [
      "Train on 4328 samples, validate on 764 samples\n",
      "WARNING:tensorflow:From C:\\Users\\nakhe\\Anaconda3\\envs\\tensor1_gpu\\lib\\site-packages\\tensorflow\\python\\ops\\math_ops.py:3066: to_int32 (from tensorflow.python.ops.math_ops) is deprecated and will be removed in a future version.\n",
      "Instructions for updating:\n",
      "Use tf.cast instead.\n",
      "Epoch 1/100\n",
      "4328/4328 [==============================] - 114s 26ms/sample - loss: 1.1276 - categorical_accuracy: 0.3886 - val_loss: 1.0353 - val_categorical_accuracy: 0.4948\n",
      "Epoch 2/100\n",
      "4328/4328 [==============================] - 98s 23ms/sample - loss: 0.9914 - categorical_accuracy: 0.4942 - val_loss: 0.9597 - val_categorical_accuracy: 0.4961\n",
      "Epoch 3/100\n",
      "4328/4328 [==============================] - 101s 23ms/sample - loss: 0.9357 - categorical_accuracy: 0.5492 - val_loss: 0.9077 - val_categorical_accuracy: 0.6008\n",
      "Epoch 4/100\n",
      "4328/4328 [==============================] - 106s 24ms/sample - loss: 0.8832 - categorical_accuracy: 0.5677 - val_loss: 0.8970 - val_categorical_accuracy: 0.5864\n",
      "Epoch 5/100\n",
      "4328/4328 [==============================] - 104s 24ms/sample - loss: 0.8488 - categorical_accuracy: 0.5947 - val_loss: 0.8431 - val_categorical_accuracy: 0.6440\n",
      "Epoch 6/100\n",
      "4328/4328 [==============================] - 99s 23ms/sample - loss: 0.8097 - categorical_accuracy: 0.6185 - val_loss: 0.8431 - val_categorical_accuracy: 0.5982\n",
      "Epoch 7/100\n",
      "4328/4328 [==============================] - 103s 24ms/sample - loss: 0.7521 - categorical_accuracy: 0.6463 - val_loss: 0.7600 - val_categorical_accuracy: 0.6885\n",
      "Epoch 8/100\n",
      "4328/4328 [==============================] - 105s 24ms/sample - loss: 0.6925 - categorical_accuracy: 0.6881 - val_loss: 0.7534 - val_categorical_accuracy: 0.6819\n",
      "Epoch 9/100\n",
      "4328/4328 [==============================] - 207s 48ms/sample - loss: 0.6417 - categorical_accuracy: 0.7149 - val_loss: 0.6936 - val_categorical_accuracy: 0.7225\n",
      "Epoch 10/100\n",
      "4328/4328 [==============================] - 265s 61ms/sample - loss: 0.5993 - categorical_accuracy: 0.7373 - val_loss: 0.6936 - val_categorical_accuracy: 0.7107\n",
      "Epoch 11/100\n",
      "4328/4328 [==============================] - 216s 50ms/sample - loss: 0.5419 - categorical_accuracy: 0.7532 - val_loss: 0.6541 - val_categorical_accuracy: 0.7343\n",
      "Epoch 12/100\n",
      "4328/4328 [==============================] - 230s 53ms/sample - loss: 0.5119 - categorical_accuracy: 0.7800 - val_loss: 0.6343 - val_categorical_accuracy: 0.7212\n",
      "Epoch 13/100\n",
      "4328/4328 [==============================] - 299s 69ms/sample - loss: 0.4740 - categorical_accuracy: 0.7911 - val_loss: 0.6483 - val_categorical_accuracy: 0.7382\n",
      "Epoch 14/100\n",
      "4328/4328 [==============================] - 366s 85ms/sample - loss: 0.4438 - categorical_accuracy: 0.8087 - val_loss: 0.6615 - val_categorical_accuracy: 0.7304\n",
      "Epoch 15/100\n",
      "4328/4328 [==============================] - 346s 80ms/sample - loss: 0.4212 - categorical_accuracy: 0.8189 - val_loss: 0.6882 - val_categorical_accuracy: 0.7277\n",
      "Epoch 16/100\n",
      "4328/4328 [==============================] - 436s 101ms/sample - loss: 0.3904 - categorical_accuracy: 0.8219 - val_loss: 0.6520 - val_categorical_accuracy: 0.7277\n",
      "Epoch 17/100\n",
      "4328/4328 [==============================] - 371s 86ms/sample - loss: 0.3778 - categorical_accuracy: 0.8477 - val_loss: 0.6432 - val_categorical_accuracy: 0.7448\n",
      "Epoch 18/100\n",
      "4328/4328 [==============================] - 513s 118ms/sample - loss: 0.3631 - categorical_accuracy: 0.8406 - val_loss: 0.6269 - val_categorical_accuracy: 0.7526\n",
      "Epoch 19/100\n",
      "4328/4328 [==============================] - 510s 118ms/sample - loss: 0.3458 - categorical_accuracy: 0.8577 - val_loss: 0.7037 - val_categorical_accuracy: 0.7461\n",
      "Epoch 20/100\n",
      "4328/4328 [==============================] - 625s 144ms/sample - loss: 0.3407 - categorical_accuracy: 0.8517 - val_loss: 0.6737 - val_categorical_accuracy: 0.7552\n",
      "Epoch 21/100\n",
      "4328/4328 [==============================] - 639s 148ms/sample - loss: 0.2898 - categorical_accuracy: 0.8789 - val_loss: 0.7168 - val_categorical_accuracy: 0.7304\n",
      "Epoch 22/100\n",
      "4328/4328 [==============================] - 690s 160ms/sample - loss: 0.3013 - categorical_accuracy: 0.8729 - val_loss: 0.6713 - val_categorical_accuracy: 0.7539\n",
      "Epoch 23/100\n",
      "4328/4328 [==============================] - 747s 173ms/sample - loss: 0.2862 - categorical_accuracy: 0.8840 - val_loss: 0.6795 - val_categorical_accuracy: 0.7579\n",
      "Epoch 24/100\n",
      "4328/4328 [==============================] - 799s 185ms/sample - loss: 0.2895 - categorical_accuracy: 0.8801 - val_loss: 0.6952 - val_categorical_accuracy: 0.7657\n",
      "Epoch 25/100\n",
      "4328/4328 [==============================] - 693s 160ms/sample - loss: 0.2562 - categorical_accuracy: 0.8939 - val_loss: 0.7215 - val_categorical_accuracy: 0.7526\n",
      "Epoch 26/100\n",
      "4328/4328 [==============================] - 801s 185ms/sample - loss: 0.2551 - categorical_accuracy: 0.8891 - val_loss: 0.7374 - val_categorical_accuracy: 0.7395\n",
      "Epoch 27/100\n",
      "4328/4328 [==============================] - 818s 189ms/sample - loss: 0.2414 - categorical_accuracy: 0.9046 - val_loss: 0.7703 - val_categorical_accuracy: 0.7421\n",
      "Epoch 28/100\n",
      "4328/4328 [==============================] - 906s 209ms/sample - loss: 0.2456 - categorical_accuracy: 0.8976 - val_loss: 0.8487 - val_categorical_accuracy: 0.7513\n",
      "Epoch 29/100\n",
      "4328/4328 [==============================] - 932s 215ms/sample - loss: 0.2352 - categorical_accuracy: 0.9062 - val_loss: 0.8635 - val_categorical_accuracy: 0.7618\n",
      "Epoch 30/100\n",
      "4328/4328 [==============================] - 973s 225ms/sample - loss: 0.2315 - categorical_accuracy: 0.9025 - val_loss: 0.7765 - val_categorical_accuracy: 0.7683\n",
      "Epoch 31/100\n",
      "4328/4328 [==============================] - 914s 211ms/sample - loss: 0.2351 - categorical_accuracy: 0.9020 - val_loss: 0.7512 - val_categorical_accuracy: 0.7605\n",
      "Epoch 32/100\n",
      "4328/4328 [==============================] - 1088s 251ms/sample - loss: 0.2326 - categorical_accuracy: 0.9067 - val_loss: 0.7351 - val_categorical_accuracy: 0.7631\n",
      "Epoch 33/100\n",
      "4328/4328 [==============================] - 874s 202ms/sample - loss: 0.2265 - categorical_accuracy: 0.9150 - val_loss: 0.8095 - val_categorical_accuracy: 0.7631\n",
      "Epoch 34/100\n",
      "4328/4328 [==============================] - 1120s 259ms/sample - loss: 0.2016 - categorical_accuracy: 0.9150 - val_loss: 0.8664 - val_categorical_accuracy: 0.7539\n",
      "Epoch 35/100\n",
      "4328/4328 [==============================] - 1076s 249ms/sample - loss: 0.2006 - categorical_accuracy: 0.9258 - val_loss: 0.7128 - val_categorical_accuracy: 0.7919\n",
      "Epoch 36/100\n",
      "4328/4328 [==============================] - 1006s 232ms/sample - loss: 0.1924 - categorical_accuracy: 0.9226 - val_loss: 0.7703 - val_categorical_accuracy: 0.7631\n",
      "Epoch 37/100\n",
      "4328/4328 [==============================] - 1464s 338ms/sample - loss: 0.2054 - categorical_accuracy: 0.9210 - val_loss: 0.7726 - val_categorical_accuracy: 0.7644\n",
      "Epoch 38/100\n",
      "4328/4328 [==============================] - 958s 221ms/sample - loss: 0.2146 - categorical_accuracy: 0.9150 - val_loss: 0.8481 - val_categorical_accuracy: 0.7565\n",
      "Epoch 39/100\n",
      "4328/4328 [==============================] - 1278s 295ms/sample - loss: 0.2146 - categorical_accuracy: 0.9173 - val_loss: 0.8720 - val_categorical_accuracy: 0.7801\n",
      "Epoch 40/100\n",
      "4328/4328 [==============================] - 932s 215ms/sample - loss: 0.1870 - categorical_accuracy: 0.9279 - val_loss: 0.7697 - val_categorical_accuracy: 0.7736\n",
      "Epoch 41/100\n",
      "4328/4328 [==============================] - 1188s 275ms/sample - loss: 0.1873 - categorical_accuracy: 0.9265 - val_loss: 0.8337 - val_categorical_accuracy: 0.7513\n",
      "Epoch 42/100\n",
      "4328/4328 [==============================] - 1148s 265ms/sample - loss: 0.1986 - categorical_accuracy: 0.9203 - val_loss: 0.7872 - val_categorical_accuracy: 0.7683\n",
      "Epoch 43/100\n",
      "4328/4328 [==============================] - 1145s 264ms/sample - loss: 0.1949 - categorical_accuracy: 0.9228 - val_loss: 0.9025 - val_categorical_accuracy: 0.7579\n",
      "Epoch 44/100\n",
      "4328/4328 [==============================] - 1514s 350ms/sample - loss: 0.1857 - categorical_accuracy: 0.9226 - val_loss: 0.8328 - val_categorical_accuracy: 0.7461\n",
      "Epoch 45/100\n",
      " 320/4328 [=>............................] - ETA: 20:28 - loss: 0.2441 - categorical_accuracy: 0.8875"
     ]
    }
   ],
   "source": [
    "from tensorflow.keras.callbacks import EarlyStopping, ModelCheckpoint\n",
    "es = EarlyStopping(monitor='categorical_accuracy', mode='max', patience=5)\n",
    "mc = ModelCheckpoint(base_dir+'best_model.h5', monitor='val_categorical_accuracy', mode='max', save_best_only=True)\n",
    "histroy = model.fit(X_train, y_train, batch_size=16, epochs=100, callbacks=[es, mc], validation_split=0.15)"
   ]
  },
  {
   "cell_type": "code",
   "execution_count": 11,
   "metadata": {},
   "outputs": [
    {
     "name": "stdout",
     "output_type": "stream",
     "text": [
      "1698/1698 [==============================] - 9s 5ms/sample - loss: 0.7535 - categorical_accuracy: 0.7615\n",
      "loss= 0.753492692474482\n",
      "accuracy= 0.7614841\n"
     ]
    }
   ],
   "source": [
    "# 모델 평가하기 \n",
    "from tensorflow.keras.models import load_model\n",
    "model = load_model(base_dir+'best_model.h5')\n",
    "score = model.evaluate(X_test, y_test)\n",
    "print('loss=', score[0])        # loss\n",
    "print('accuracy=', score[1])    # acc"
   ]
  },
  {
   "cell_type": "code",
   "execution_count": 12,
   "metadata": {},
   "outputs": [
    {
     "name": "stdout",
     "output_type": "stream",
     "text": [
      "[[9.9464083e-01 5.3531216e-03 6.0811808e-06]]\n",
      "./0. Animal_Data/cat_test_1.jpg : cats\n",
      "\n",
      "[[2.0220706e-01 7.9741877e-01 3.7413649e-04]]\n",
      "./0. Animal_Data/cat_test_2.jpg : dogs\n",
      "\n",
      "[[0.44885895 0.19366646 0.3574746 ]]\n",
      "./0. Animal_Data/cat_test_3.jpg : cats\n",
      "\n",
      "[[0.08514132 0.8989197  0.01593903]]\n",
      "./0. Animal_Data/cat_test_4.jpg : dogs\n",
      "\n",
      "[[0.21667777 0.7801336  0.00318869]]\n",
      "./0. Animal_Data/cat_test_5.jpg : dogs\n",
      "\n",
      "[[3.6908314e-01 6.3090003e-01 1.6872127e-05]]\n",
      "./0. Animal_Data/dog_test_1.jpg : dogs\n",
      "\n",
      "[[8.1868333e-05 9.9991727e-01 8.1410991e-07]]\n",
      "./0. Animal_Data/dog_test_2.jpg : dogs\n",
      "\n",
      "[[0.377355  0.5975565 0.0250885]]\n",
      "./0. Animal_Data/dog_test_3.jpg : dogs\n",
      "\n",
      "[[2.7681565e-01 7.2318190e-01 2.4338467e-06]]\n",
      "./0. Animal_Data/dog_test_4.jpg : dogs\n",
      "\n",
      "[[0.38882273 0.60044205 0.01073526]]\n",
      "./0. Animal_Data/dog_test_5.jpg : dogs\n",
      "\n",
      "[[5.027445e-03 5.138117e-04 9.944588e-01]]\n",
      "./0. Animal_Data/monkey_test_1.jpg : monkeys\n",
      "\n",
      "[[4.7814308e-04 7.4962334e-04 9.9877220e-01]]\n",
      "./0. Animal_Data/monkey_test_2.jpg : monkeys\n",
      "\n",
      "[[1.4416831e-05 8.1456295e-05 9.9990416e-01]]\n",
      "./0. Animal_Data/monkey_test_3.jpg : monkeys\n",
      "\n",
      "[[0.00372316 0.00217443 0.9941024 ]]\n",
      "./0. Animal_Data/monkey_test_4.jpg : monkeys\n",
      "\n",
      "[[0.3308931  0.66168714 0.0074198 ]]\n",
      "./0. Animal_Data/monkey_test_5.jpg : dogs\n",
      "\n"
     ]
    }
   ],
   "source": [
    "animals = ['cat', 'dog', 'monkey']\n",
    "\n",
    "for animal in animals:\n",
    "    for i in range(1,6):\n",
    "        test_image = base_dir+animal+'_test_'+str(i)+'.jpg'\n",
    "        \n",
    "        # 이미지 resize\n",
    "        img = Image.open(test_image)\n",
    "        img = img.convert(\"RGB\")\n",
    "        img = img.resize((256,256))\n",
    "        data = np.asarray(img)\n",
    "        X = np.array(data)\n",
    "        X = X.astype(\"float\") / 256\n",
    "        X = X.reshape(-1, 256,256,3)\n",
    "        \n",
    "        # 예측\n",
    "        pred = model.predict(X)\n",
    "        print(pred)\n",
    "        result = [np.argmax(value) for value in pred]   # 예측 값중 가장 높은 클래스 반환\n",
    "        print(test_image, ':',categories[result[0]])\n",
    "        print()"
   ]
  },
  {
   "cell_type": "code",
   "execution_count": null,
   "metadata": {},
   "outputs": [],
   "source": []
  },
  {
   "cell_type": "code",
   "execution_count": null,
   "metadata": {},
   "outputs": [],
   "source": []
  },
  {
   "cell_type": "code",
   "execution_count": null,
   "metadata": {},
   "outputs": [],
   "source": []
  },
  {
   "cell_type": "code",
   "execution_count": null,
   "metadata": {},
   "outputs": [],
   "source": []
  },
  {
   "cell_type": "code",
   "execution_count": null,
   "metadata": {},
   "outputs": [],
   "source": []
  },
  {
   "cell_type": "code",
   "execution_count": null,
   "metadata": {},
   "outputs": [],
   "source": []
  },
  {
   "cell_type": "code",
   "execution_count": null,
   "metadata": {},
   "outputs": [],
   "source": []
  },
  {
   "cell_type": "code",
   "execution_count": null,
   "metadata": {},
   "outputs": [],
   "source": []
  },
  {
   "cell_type": "code",
   "execution_count": 20,
   "metadata": {},
   "outputs": [
    {
     "name": "stdout",
     "output_type": "stream",
     "text": [
      "Found 1350 images belonging to 3 classes.\n",
      "Found 150 images belonging to 3 classes.\n"
     ]
    }
   ],
   "source": [
    "# 이미지데이터 전처리\n",
    "from tensorflow.keras.preprocessing.image import ImageDataGenerator\n",
    "\n",
    "train_datagen = ImageDataGenerator(rescale=1./255, rotation_range=15, width_shift_range=0.1, height_shift_range=0.1,\n",
    "                                  shear_range=0.5, zoom_range=[0.8,2.0], horizontal_flip=True, vertical_flip=True)\n",
    "test_datagen = ImageDataGenerator(rescale=1./255)\n",
    "\n",
    "train_dataset = train_datagen.flow_from_directory(train_dir, target_size=(150,150), batch_size=32, class_mode='categorical')\n",
    "test_dataset = test_datagen.flow_from_directory(test_dir, target_size=(150,150), batch_size=32, class_mode='categorical')"
   ]
  },
  {
   "cell_type": "code",
   "execution_count": 36,
   "metadata": {},
   "outputs": [
    {
     "data": {
      "text/plain": [
       "1350"
      ]
     },
     "execution_count": 36,
     "metadata": {},
     "output_type": "execute_result"
    }
   ],
   "source": [
    "from tensorflow.keras.preprocessing.image import load_img\n",
    "\n",
    "img = load_img()\n",
    "\n",
    "for batch in train_datagen.flow()"
   ]
  },
  {
   "cell_type": "markdown",
   "metadata": {},
   "source": [
    "# 모델 구성 및 학습"
   ]
  },
  {
   "cell_type": "code",
   "execution_count": 21,
   "metadata": {},
   "outputs": [
    {
     "name": "stdout",
     "output_type": "stream",
     "text": [
      "Model: \"sequential_4\"\n",
      "_________________________________________________________________\n",
      "Layer (type)                 Output Shape              Param #   \n",
      "=================================================================\n",
      "conv2d_12 (Conv2D)           (None, 150, 150, 16)      448       \n",
      "_________________________________________________________________\n",
      "max_pooling2d_12 (MaxPooling (None, 75, 75, 16)        0         \n",
      "_________________________________________________________________\n",
      "dropout_12 (Dropout)         (None, 75, 75, 16)        0         \n",
      "_________________________________________________________________\n",
      "conv2d_13 (Conv2D)           (None, 75, 75, 32)        4640      \n",
      "_________________________________________________________________\n",
      "max_pooling2d_13 (MaxPooling (None, 37, 37, 32)        0         \n",
      "_________________________________________________________________\n",
      "dropout_13 (Dropout)         (None, 37, 37, 32)        0         \n",
      "_________________________________________________________________\n",
      "conv2d_14 (Conv2D)           (None, 37, 37, 64)        18496     \n",
      "_________________________________________________________________\n",
      "max_pooling2d_14 (MaxPooling (None, 18, 18, 64)        0         \n",
      "_________________________________________________________________\n",
      "dropout_14 (Dropout)         (None, 18, 18, 64)        0         \n",
      "_________________________________________________________________\n",
      "flatten_4 (Flatten)          (None, 20736)             0         \n",
      "_________________________________________________________________\n",
      "dense_9 (Dense)              (None, 256)               5308672   \n",
      "_________________________________________________________________\n",
      "dense_10 (Dense)             (None, 128)               32896     \n",
      "_________________________________________________________________\n",
      "dense_11 (Dense)             (None, 3)                 387       \n",
      "=================================================================\n",
      "Total params: 5,365,539\n",
      "Trainable params: 5,365,539\n",
      "Non-trainable params: 0\n",
      "_________________________________________________________________\n"
     ]
    }
   ],
   "source": [
    "from tensorflow.keras.models import Sequential\n",
    "from tensorflow.keras.layers import InputLayer, Dense, Dropout, Flatten\n",
    "from tensorflow.keras.layers import Convolution2D, MaxPooling2D\n",
    "\n",
    "model = Sequential()\n",
    "\n",
    "model.add(InputLayer(input_shape=(150,150,3)))\n",
    "model.add(Convolution2D(16, (3,3), (1,1), 'same', activation='relu'))\n",
    "model.add(MaxPooling2D(pool_size=(2, 2)))\n",
    "model.add(Dropout(0.25))\n",
    "  \n",
    "model.add(Convolution2D(32, (3,3), (1,1), 'same', activation='relu'))\n",
    "model.add(MaxPooling2D(pool_size=(2, 2)))\n",
    "model.add(Dropout(0.25))\n",
    " \n",
    "model.add(Convolution2D(64, (3,3), (1,1), 'same', activation='relu'))\n",
    "model.add(MaxPooling2D(pool_size=(2, 2)))\n",
    "model.add(Dropout(0.25))\n",
    "  \n",
    "model.add(Flatten())\n",
    "model.add(Dense(256, activation = 'relu'))\n",
    "model.add(Dense(128, activation = 'relu'))\n",
    "model.add(Dense(3, activation = 'softmax'))\n",
    "\n",
    "model.summary()"
   ]
  },
  {
   "cell_type": "code",
   "execution_count": 22,
   "metadata": {},
   "outputs": [],
   "source": [
    "model.compile(loss='categorical_crossentropy',optimizer='Adam',metrics=['accuracy'])"
   ]
  },
  {
   "cell_type": "code",
   "execution_count": 24,
   "metadata": {},
   "outputs": [
    {
     "name": "stdout",
     "output_type": "stream",
     "text": [
      "WARNING:tensorflow:sample_weight modes were coerced from\n",
      "  ...\n",
      "    to  \n",
      "  ['...']\n",
      "WARNING:tensorflow:sample_weight modes were coerced from\n",
      "  ...\n",
      "    to  \n",
      "  ['...']\n",
      "Train for 43 steps, validate for 5 steps\n",
      "Epoch 1/100\n",
      "43/43 [==============================] - 21s 481ms/step - loss: 1.1422 - accuracy: 0.3704 - val_loss: 1.0338 - val_accuracy: 0.4600\n",
      "Epoch 2/100\n",
      "43/43 [==============================] - 20s 455ms/step - loss: 0.9469 - accuracy: 0.4978 - val_loss: 0.9233 - val_accuracy: 0.4867\n",
      "Epoch 3/100\n",
      "43/43 [==============================] - 20s 460ms/step - loss: 0.8493 - accuracy: 0.5637 - val_loss: 0.7696 - val_accuracy: 0.6000\n",
      "Epoch 4/100\n",
      "43/43 [==============================] - 20s 469ms/step - loss: 0.7680 - accuracy: 0.6067 - val_loss: 0.7208 - val_accuracy: 0.6867\n",
      "Epoch 5/100\n",
      "43/43 [==============================] - 20s 473ms/step - loss: 0.6725 - accuracy: 0.6370 - val_loss: 0.6851 - val_accuracy: 0.6533\n",
      "Epoch 6/100\n",
      "43/43 [==============================] - 20s 471ms/step - loss: 0.6449 - accuracy: 0.6556 - val_loss: 0.6202 - val_accuracy: 0.7267\n",
      "Epoch 7/100\n",
      "43/43 [==============================] - 20s 470ms/step - loss: 0.6045 - accuracy: 0.6926 - val_loss: 0.5745 - val_accuracy: 0.6733\n",
      "Epoch 8/100\n",
      "43/43 [==============================] - 19s 451ms/step - loss: 0.7086 - accuracy: 0.6489 - val_loss: 0.6609 - val_accuracy: 0.7000\n",
      "Epoch 9/100\n",
      "43/43 [==============================] - 20s 463ms/step - loss: 0.5677 - accuracy: 0.7067 - val_loss: 0.5269 - val_accuracy: 0.7667\n",
      "Epoch 10/100\n",
      "43/43 [==============================] - 19s 452ms/step - loss: 0.6185 - accuracy: 0.6919 - val_loss: 0.5709 - val_accuracy: 0.7600\n",
      "Epoch 11/100\n",
      "43/43 [==============================] - 20s 464ms/step - loss: 0.5473 - accuracy: 0.7259 - val_loss: 0.6057 - val_accuracy: 0.7000\n",
      "Epoch 12/100\n",
      "43/43 [==============================] - 19s 451ms/step - loss: 0.5265 - accuracy: 0.7207 - val_loss: 0.5528 - val_accuracy: 0.7000\n",
      "Epoch 13/100\n",
      "43/43 [==============================] - 19s 451ms/step - loss: 0.5612 - accuracy: 0.7059 - val_loss: 0.5518 - val_accuracy: 0.7400\n",
      "Epoch 14/100\n",
      "43/43 [==============================] - 19s 450ms/step - loss: 0.5327 - accuracy: 0.7267 - val_loss: 0.5310 - val_accuracy: 0.7533\n",
      "Epoch 15/100\n",
      "43/43 [==============================] - 19s 450ms/step - loss: 0.4915 - accuracy: 0.7444 - val_loss: 0.4579 - val_accuracy: 0.7667\n",
      "Epoch 16/100\n",
      "43/43 [==============================] - 19s 450ms/step - loss: 0.4936 - accuracy: 0.7311 - val_loss: 0.5086 - val_accuracy: 0.7333\n",
      "Epoch 17/100\n",
      "43/43 [==============================] - 20s 474ms/step - loss: 0.4757 - accuracy: 0.7556 - val_loss: 0.6321 - val_accuracy: 0.6933\n",
      "Epoch 18/100\n",
      "43/43 [==============================] - 20s 469ms/step - loss: 0.4804 - accuracy: 0.7563 - val_loss: 0.4539 - val_accuracy: 0.7667\n",
      "Epoch 19/100\n",
      "43/43 [==============================] - 21s 486ms/step - loss: 0.5000 - accuracy: 0.7459 - val_loss: 0.4486 - val_accuracy: 0.7867\n",
      "Epoch 20/100\n",
      "43/43 [==============================] - 20s 466ms/step - loss: 0.4584 - accuracy: 0.7770 - val_loss: 0.5627 - val_accuracy: 0.7200\n",
      "Epoch 21/100\n",
      "43/43 [==============================] - 19s 450ms/step - loss: 0.4876 - accuracy: 0.7452 - val_loss: 0.4438 - val_accuracy: 0.7933\n",
      "Epoch 22/100\n",
      "43/43 [==============================] - 19s 448ms/step - loss: 0.4401 - accuracy: 0.7881 - val_loss: 0.4531 - val_accuracy: 0.7467\n",
      "Epoch 23/100\n",
      "43/43 [==============================] - 20s 454ms/step - loss: 0.4654 - accuracy: 0.7585 - val_loss: 0.5169 - val_accuracy: 0.7400\n",
      "Epoch 24/100\n",
      "43/43 [==============================] - 19s 453ms/step - loss: 0.4523 - accuracy: 0.7815 - val_loss: 0.5167 - val_accuracy: 0.7400\n",
      "Epoch 25/100\n",
      "43/43 [==============================] - 20s 454ms/step - loss: 0.4552 - accuracy: 0.7689 - val_loss: 0.4678 - val_accuracy: 0.7800\n",
      "Epoch 26/100\n",
      "43/43 [==============================] - 20s 458ms/step - loss: 0.4362 - accuracy: 0.7815 - val_loss: 0.4433 - val_accuracy: 0.8067\n",
      "Epoch 27/100\n",
      "43/43 [==============================] - 19s 452ms/step - loss: 0.4390 - accuracy: 0.7889 - val_loss: 0.4249 - val_accuracy: 0.7867\n",
      "Epoch 28/100\n",
      "43/43 [==============================] - 19s 451ms/step - loss: 0.4170 - accuracy: 0.7919 - val_loss: 0.4608 - val_accuracy: 0.7800\n",
      "Epoch 29/100\n",
      "43/43 [==============================] - 20s 454ms/step - loss: 0.4110 - accuracy: 0.7970 - val_loss: 0.4240 - val_accuracy: 0.7867\n",
      "Epoch 30/100\n",
      "43/43 [==============================] - 19s 453ms/step - loss: 0.4778 - accuracy: 0.7778 - val_loss: 0.4964 - val_accuracy: 0.7267\n",
      "Epoch 31/100\n",
      "43/43 [==============================] - 19s 453ms/step - loss: 0.4132 - accuracy: 0.7993 - val_loss: 0.4626 - val_accuracy: 0.7333\n",
      "Epoch 32/100\n",
      "43/43 [==============================] - 19s 451ms/step - loss: 0.3931 - accuracy: 0.7978 - val_loss: 0.4498 - val_accuracy: 0.7667\n",
      "Epoch 33/100\n",
      "43/43 [==============================] - 19s 448ms/step - loss: 0.4059 - accuracy: 0.7985 - val_loss: 0.5081 - val_accuracy: 0.7133\n",
      "Epoch 34/100\n",
      "43/43 [==============================] - 19s 451ms/step - loss: 0.3931 - accuracy: 0.8022 - val_loss: 0.4278 - val_accuracy: 0.7800\n",
      "Epoch 35/100\n",
      "43/43 [==============================] - 19s 453ms/step - loss: 0.3775 - accuracy: 0.8067 - val_loss: 0.4132 - val_accuracy: 0.7733\n",
      "Epoch 36/100\n",
      "43/43 [==============================] - 19s 453ms/step - loss: 0.3912 - accuracy: 0.8237 - val_loss: 0.4397 - val_accuracy: 0.7533\n"
     ]
    }
   ],
   "source": [
    "from tensorflow.keras.callbacks import EarlyStopping\n",
    "\n",
    "es = EarlyStopping(monitor='val_accuracy', patience=10)\n",
    "history = model.fit(train_dataset, validation_data=test_dataset, epochs=100, callbacks=[es])"
   ]
  },
  {
   "cell_type": "markdown",
   "metadata": {},
   "source": [
    "# 학습 결과 시각화"
   ]
  },
  {
   "cell_type": "code",
   "execution_count": 25,
   "metadata": {},
   "outputs": [
    {
     "data": {
      "image/png": "[encoded data removed]",
      "text/plain": [
       "<Figure size 432x288 with 1 Axes>"
      ]
     },
     "metadata": {
      "needs_background": "light"
     },
     "output_type": "display_data"
    },
    {
     "data": {
      "image/png": "[encoded data removed]",
      "text/plain": [
       "<Figure size 432x288 with 1 Axes>"
      ]
     },
     "metadata": {
      "needs_background": "light"
     },
     "output_type": "display_data"
    }
   ],
   "source": [
    "import matplotlib.pyplot as plt\n",
    "\n",
    "acc = history.history['accuracy']\n",
    "val_acc = history.history['val_accuracy']\n",
    "loss = history.history['loss']\n",
    "val_loss = history.history['val_loss']\n",
    "\n",
    "epochs = range(len(acc))\n",
    "\n",
    "plt.plot(epochs, acc, 'bo', label='Training accuracy')\n",
    "plt.plot(epochs, val_acc, 'b', label='Validation accuracy')\n",
    "plt.title('Training and validation accuracy')\n",
    "plt.legend()\n",
    "\n",
    "plt.figure()\n",
    "\n",
    "plt.plot(epochs, loss, 'go', label='Training Loss')\n",
    "plt.plot(epochs, val_loss, 'g', label='Validation Loss')\n",
    "plt.title('Training and validation loss')\n",
    "plt.legend()\n",
    "\n",
    "plt.show()"
   ]
  },
  {
   "cell_type": "markdown",
   "metadata": {},
   "source": [
    "# TEST"
   ]
  },
  {
   "cell_type": "code",
   "execution_count": 27,
   "metadata": {},
   "outputs": [
    {
     "name": "stdout",
     "output_type": "stream",
     "text": [
      "test_cat.jpg is a dog. // prob:  0.99995375\n",
      "[[4.6290392e-05 9.9995375e-01 0.0000000e+00]]\n",
      "\n",
      "test_dog.jpg is a dog. // prob:  1.0\n",
      "[[0. 1. 0.]]\n",
      "\n",
      "test_horse.jpg is a dog. // prob:  1.0\n",
      "[[0. 1. 0.]]\n",
      "\n",
      "cat.0.jpg is a dog. // prob:  1.0\n",
      "[[0. 1. 0.]]\n",
      "\n",
      "cat.1.jpg is a dog. // prob:  1.0\n",
      "[[0. 1. 0.]]\n",
      "\n",
      "cat.2.jpg is a dog. // prob:  1.0\n",
      "[[2.156602e-26 1.000000e+00 0.000000e+00]]\n",
      "\n",
      "dog.0.jpg is a dog. // prob:  1.0\n",
      "[[0. 1. 0.]]\n",
      "\n",
      "dog.1.jpg is a dog. // prob:  1.0\n",
      "[[0. 1. 0.]]\n",
      "\n",
      "dog.2.jpg is a dog. // prob:  1.0\n",
      "[[0. 1. 0.]]\n",
      "\n",
      "horse01-0.png is a horse. // prob:  1.0\n",
      "[[0. 0. 1.]]\n",
      "\n",
      "horse06-1.png is a horse. // prob:  1.0\n",
      "[[0. 0. 1.]]\n",
      "\n",
      "horse11-9.png is a horse. // prob:  1.0\n",
      "[[0. 0. 1.]]\n",
      "\n"
     ]
    }
   ],
   "source": [
    "import numpy as np\n",
    "from tensorflow.keras.preprocessing import image\n",
    "\n",
    "file_list = ['test_cat.jpg', 'test_dog.jpg', 'test_horse.jpg', 'cat.0.jpg', 'cat.1.jpg', 'cat.2.jpg', 'dog.0.jpg', 'dog.1.jpg', 'dog.2.jpg', 'horse01-0.png', 'horse06-1.png', 'horse11-9.png']\n",
    "\n",
    "for file in file_list:   \n",
    "    path = './0. Animal_Data/'+file\n",
    "    img = image.load_img(path, target_size=(150,150))\n",
    "\n",
    "    x=image.img_to_array(img)\n",
    "    x=np.expand_dims(x, axis=0)\n",
    "    images = np.vstack([x])\n",
    "\n",
    "    classes = model.predict(images, batch_size=10)\n",
    "    \n",
    "    if max(classes[0]) == classes[0][0]:\n",
    "        print(file + \" is a cat. // prob: \", classes[0][0])\n",
    "    elif max(classes[0]) == classes[0][1]:\n",
    "        print(file + \" is a dog. // prob: \", classes[0][1])\n",
    "    elif max(classes[0]) == classes[0][2]:\n",
    "        print(file + \" is a horse. // prob: \", classes[0][2])\n",
    "    \n",
    "    print(classes)\n",
    "    print()"
   ]
  },
  {
   "cell_type": "code",
   "execution_count": null,
   "metadata": {},
   "outputs": [],
   "source": []
  }
 ],
 "metadata": {
  "kernelspec": {
   "display_name": "Python 3",
   "language": "python",
   "name": "python3"
  },
  "language_info": {
   "codemirror_mode": {
    "name": "ipython",
    "version": 3
   },
   "file_extension": ".py",
   "mimetype": "text/x-python",
   "name": "python",
   "nbconvert_exporter": "python",
   "pygments_lexer": "ipython3",
   "version": "3.7.0"
  }
 },
 "nbformat": 4,
 "nbformat_minor": 2
}
