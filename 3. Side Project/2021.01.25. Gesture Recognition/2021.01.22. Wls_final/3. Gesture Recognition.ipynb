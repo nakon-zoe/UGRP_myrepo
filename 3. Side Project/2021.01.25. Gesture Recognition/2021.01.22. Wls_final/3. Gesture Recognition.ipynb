{
 "cells": [
  {
   "cell_type": "markdown",
   "metadata": {
    "id": "96HHlg4nPQ5N"
   },
   "source": [
    "# 디렉토리 설정 및 이미지데이터 전처리"
   ]
  },
  {
   "cell_type": "code",
   "execution_count": 1,
   "metadata": {
    "executionInfo": {
     "elapsed": 1954,
     "status": "ok",
     "timestamp": 1611549349455,
     "user": {
      "displayName": "고낙헌",
      "photoUrl": "",
      "userId": "00320345697887287590"
     },
     "user_tz": -540
    },
    "id": "Ng3xzpXTPQoe"
   },
   "outputs": [],
   "source": [
    "import glob\n",
    "import numpy as np\n",
    "from PIL import Image\n",
    "from sklearn.model_selection import train_test_split"
   ]
  },
  {
   "cell_type": "code",
   "execution_count": 2,
   "metadata": {
    "colab": {
     "base_uri": "https://localhost:8080/"
    },
    "executionInfo": {
     "elapsed": 16463,
     "status": "ok",
     "timestamp": 1611549365399,
     "user": {
      "displayName": "고낙헌",
      "photoUrl": "",
      "userId": "00320345697887287590"
     },
     "user_tz": -540
    },
    "id": "msuzRnMQQIn_",
    "outputId": "caab968d-3c14-4fc3-8f36-d884bffe63b0"
   },
   "outputs": [
    {
     "name": "stdout",
     "output_type": "stream",
     "text": [
      "Mounted at /content/drive\n"
     ]
    }
   ],
   "source": [
    "from google.colab import drive\n",
    "drive.mount('/content/drive')"
   ]
  },
  {
   "cell_type": "code",
   "execution_count": 3,
   "metadata": {
    "colab": {
     "base_uri": "https://localhost:8080/"
    },
    "executionInfo": {
     "elapsed": 747,
     "status": "ok",
     "timestamp": 1611549367309,
     "user": {
      "displayName": "고낙헌",
      "photoUrl": "",
      "userId": "00320345697887287590"
     },
     "user_tz": -540
    },
    "id": "BSPkqITzpIIV",
    "outputId": "61c6a964-73ff-4d73-862d-6a663bd8bf0d"
   },
   "outputs": [
    {
     "name": "stdout",
     "output_type": "stream",
     "text": [
      "/content/drive/MyDrive/Colab Notebooks\n"
     ]
    }
   ],
   "source": [
    "%cd drive/MyDrive/Colab\\ Notebooks"
   ]
  },
  {
   "cell_type": "code",
   "execution_count": 4,
   "metadata": {
    "colab": {
     "base_uri": "https://localhost:8080/"
    },
    "executionInfo": {
     "elapsed": 751,
     "status": "ok",
     "timestamp": 1611549368233,
     "user": {
      "displayName": "고낙헌",
      "photoUrl": "",
      "userId": "00320345697887287590"
     },
     "user_tz": -540
    },
    "id": "QLwskvS9QN-2",
    "outputId": "3059a040-9e73-43f9-fbf2-021092461de5"
   },
   "outputs": [
    {
     "name": "stdout",
     "output_type": "stream",
     "text": [
      "/content/drive/MyDrive/Colab Notebooks\n"
     ]
    }
   ],
   "source": [
    "!pwd"
   ]
  },
  {
   "cell_type": "code",
   "execution_count": 5,
   "metadata": {
    "executionInfo": {
     "elapsed": 1110,
     "status": "ok",
     "timestamp": 1611549369729,
     "user": {
      "displayName": "고낙헌",
      "photoUrl": "",
      "userId": "00320345697887287590"
     },
     "user_tz": -540
    },
    "id": "29FnnKlkQw5x"
   },
   "outputs": [],
   "source": [
    "base_dir = './'\n",
    "categories = ['pedestrian', 'sitter', 'taxier']\n",
    "nb_classes = len(categories)"
   ]
  },
  {
   "cell_type": "code",
   "execution_count": 6,
   "metadata": {
    "executionInfo": {
     "elapsed": 635,
     "status": "ok",
     "timestamp": 1611549369731,
     "user": {
      "displayName": "고낙헌",
      "photoUrl": "",
      "userId": "00320345697887287590"
     },
     "user_tz": -540
    },
    "id": "vmD3dSpzRFgt"
   },
   "outputs": [],
   "source": [
    "# 이미지 크기 지정\n",
    "image_w = 500\n",
    "image_h = 500\n",
    "pixels = image_w*image_h*3"
   ]
  },
  {
   "cell_type": "code",
   "execution_count": 7,
   "metadata": {
    "executionInfo": {
     "elapsed": 83364,
     "status": "ok",
     "timestamp": 1611549452860,
     "user": {
      "displayName": "고낙헌",
      "photoUrl": "",
      "userId": "00320345697887287590"
     },
     "user_tz": -540
    },
    "id": "cD5PfQX9RLkO"
   },
   "outputs": [],
   "source": [
    "# 이미지데이터 읽어들이기\n",
    "X = []\n",
    "Y = []\n",
    "for idx, category in enumerate(categories):\n",
    "    # 레이블 지정\n",
    "    label = [0 for i in range(nb_classes)]\n",
    "    label[idx] = 1\n",
    "    \n",
    "    # 이미지\n",
    "    image_dir = base_dir+category+'/*'\n",
    "    files = glob.glob(image_dir)\n",
    "    \n",
    "    for i, f in enumerate(files):\n",
    "        img = Image.open(f)\n",
    "        img = img.convert(\"RGB\")\n",
    "        img = img.resize((image_w, image_h))\n",
    "        data = np.asarray(img)\n",
    "        X.append(data)\n",
    "        Y.append(label)\n",
    "    \n",
    "X = np.array(X)\n",
    "Y = np.array(Y)\n",
    "\n",
    "# 학습 전용 데이터와 테스트 전용 데이터로 구분\n",
    "X_train, X_test, y_train, y_test = train_test_split(X, Y)"
   ]
  },
  {
   "cell_type": "code",
   "execution_count": 8,
   "metadata": {
    "colab": {
     "base_uri": "https://localhost:8080/"
    },
    "executionInfo": {
     "elapsed": 83777,
     "status": "ok",
     "timestamp": 1611549453714,
     "user": {
      "displayName": "고낙헌",
      "photoUrl": "",
      "userId": "00320345697887287590"
     },
     "user_tz": -540
    },
    "id": "eccvK3g3RQKJ",
    "outputId": "f0042c0e-05a0-4f6e-f524-477fe7ce5cec"
   },
   "outputs": [
    {
     "name": "stdout",
     "output_type": "stream",
     "text": [
      "X_train shape: (303, 500, 500, 3)\n",
      "X_test shape: (102, 500, 500, 3)\n"
     ]
    }
   ],
   "source": [
    "# 데이터 정규화하기(0~1사이로)\n",
    "X_train = X_train.astype(\"float\") / 256\n",
    "X_test  = X_test.astype(\"float\")  / 256\n",
    "print('X_train shape:', X_train.shape)\n",
    "print('X_test shape:', X_test.shape)"
   ]
  },
  {
   "cell_type": "markdown",
   "metadata": {
    "id": "uOlmQ5qmRfak"
   },
   "source": [
    "# 일반 CNN 모델 적용"
   ]
  },
  {
   "cell_type": "code",
   "execution_count": 14,
   "metadata": {
    "colab": {
     "base_uri": "https://localhost:8080/"
    },
    "executionInfo": {
     "elapsed": 1069,
     "status": "ok",
     "timestamp": 1611552643811,
     "user": {
      "displayName": "고낙헌",
      "photoUrl": "",
      "userId": "00320345697887287590"
     },
     "user_tz": -540
    },
    "id": "YyZdTeiURZ5u",
    "outputId": "4e91fbda-e453-40cc-dd47-9ba995fd7a6c"
   },
   "outputs": [
    {
     "name": "stdout",
     "output_type": "stream",
     "text": [
      "Model: \"sequential_1\"\n",
      "_________________________________________________________________\n",
      "Layer (type)                 Output Shape              Param #   \n",
      "=================================================================\n",
      "conv2d_3 (Conv2D)            (None, 500, 500, 32)      896       \n",
      "_________________________________________________________________\n",
      "max_pooling2d_3 (MaxPooling2 (None, 250, 250, 32)      0         \n",
      "_________________________________________________________________\n",
      "dropout_5 (Dropout)          (None, 250, 250, 32)      0         \n",
      "_________________________________________________________________\n",
      "conv2d_4 (Conv2D)            (None, 250, 250, 32)      9248      \n",
      "_________________________________________________________________\n",
      "max_pooling2d_4 (MaxPooling2 (None, 125, 125, 32)      0         \n",
      "_________________________________________________________________\n",
      "dropout_6 (Dropout)          (None, 125, 125, 32)      0         \n",
      "_________________________________________________________________\n",
      "conv2d_5 (Conv2D)            (None, 125, 125, 64)      18496     \n",
      "_________________________________________________________________\n",
      "max_pooling2d_5 (MaxPooling2 (None, 62, 62, 64)        0         \n",
      "_________________________________________________________________\n",
      "dropout_7 (Dropout)          (None, 62, 62, 64)        0         \n",
      "_________________________________________________________________\n",
      "flatten_1 (Flatten)          (None, 246016)            0         \n",
      "_________________________________________________________________\n",
      "dropout_8 (Dropout)          (None, 246016)            0         \n",
      "_________________________________________________________________\n",
      "dense_2 (Dense)              (None, 128)               31490176  \n",
      "_________________________________________________________________\n",
      "dropout_9 (Dropout)          (None, 128)               0         \n",
      "_________________________________________________________________\n",
      "dense_3 (Dense)              (None, 3)                 387       \n",
      "=================================================================\n",
      "Total params: 31,519,203\n",
      "Trainable params: 31,519,203\n",
      "Non-trainable params: 0\n",
      "_________________________________________________________________\n"
     ]
    }
   ],
   "source": [
    "from tensorflow.keras.models import Sequential\n",
    "from tensorflow.keras.layers import MaxPooling2D\n",
    "from tensorflow.keras.layers import Conv2D\n",
    "from tensorflow.keras.layers import Activation, Dropout, Flatten, Dense\n",
    "\n",
    "# 모델 구조 정의 \n",
    "model = Sequential()\n",
    "model.add(Conv2D(32, (3, 3), (1, 1), input_shape=X_train.shape[1:], padding='same', activation='relu'))\n",
    "model.add(MaxPooling2D(pool_size=(2, 2)))\n",
    "model.add(Dropout(0.4))\n",
    "model.add(Conv2D(32, (3, 3), (1, 1), padding='same', activation='relu'))\n",
    "model.add(MaxPooling2D(pool_size=(2, 2)))\n",
    "model.add(Dropout(0.4))\n",
    "model.add(Conv2D(64, (3, 3), (1, 1), padding='same', activation='relu'))\n",
    "model.add(MaxPooling2D(pool_size=(2, 2)))\n",
    "model.add(Dropout(0.5))\n",
    "\n",
    "# 전결합층\n",
    "model.add(Flatten())\n",
    "model.add(Dropout(0.3))\n",
    "model.add(Dense(128, activation = 'relu'))\n",
    "model.add(Dropout(0.5))\n",
    "model.add(Dense(nb_classes, activation='softmax'))\n",
    "\n",
    "model.summary()"
   ]
  },
  {
   "cell_type": "code",
   "execution_count": 15,
   "metadata": {
    "executionInfo": {
     "elapsed": 488,
     "status": "ok",
     "timestamp": 1611552643813,
     "user": {
      "displayName": "고낙헌",
      "photoUrl": "",
      "userId": "00320345697887287590"
     },
     "user_tz": -540
    },
    "id": "r_jVzb3FRmi8"
   },
   "outputs": [],
   "source": [
    "# 모델 구축하기\n",
    "from tensorflow.keras import metrics\n",
    "model.compile(loss='categorical_crossentropy', optimizer='adam', metrics=[metrics.CategoricalAccuracy()])"
   ]
  },
  {
   "cell_type": "code",
   "execution_count": 16,
   "metadata": {
    "colab": {
     "base_uri": "https://localhost:8080/"
    },
    "executionInfo": {
     "elapsed": 1627137,
     "status": "ok",
     "timestamp": 1611554271302,
     "user": {
      "displayName": "고낙헌",
      "photoUrl": "",
      "userId": "00320345697887287590"
     },
     "user_tz": -540
    },
    "id": "tM0WBFXoRpvP",
    "outputId": "6cec843f-b5ce-4450-bab9-3aabec531254"
   },
   "outputs": [
    {
     "name": "stdout",
     "output_type": "stream",
     "text": [
      "Epoch 1/100\n",
      "17/17 [==============================] - 82s 5s/step - loss: 19.0751 - categorical_accuracy: 0.3615 - val_loss: 1.0989 - val_categorical_accuracy: 0.2826\n",
      "Epoch 2/100\n",
      "17/17 [==============================] - 81s 5s/step - loss: 1.0797 - categorical_accuracy: 0.3678 - val_loss: 1.0991 - val_categorical_accuracy: 0.2826\n",
      "Epoch 3/100\n",
      "17/17 [==============================] - 79s 5s/step - loss: 1.0784 - categorical_accuracy: 0.3226 - val_loss: 1.0995 - val_categorical_accuracy: 0.2826\n",
      "Epoch 4/100\n",
      "17/17 [==============================] - 79s 5s/step - loss: 1.0826 - categorical_accuracy: 0.3802 - val_loss: 1.0996 - val_categorical_accuracy: 0.2826\n",
      "Epoch 5/100\n",
      "17/17 [==============================] - 79s 5s/step - loss: 1.0497 - categorical_accuracy: 0.4552 - val_loss: 1.0945 - val_categorical_accuracy: 0.3043\n",
      "Epoch 6/100\n",
      "17/17 [==============================] - 80s 5s/step - loss: 0.9102 - categorical_accuracy: 0.5990 - val_loss: 0.9807 - val_categorical_accuracy: 0.5435\n",
      "Epoch 7/100\n",
      "17/17 [==============================] - 80s 5s/step - loss: 0.7811 - categorical_accuracy: 0.6199 - val_loss: 0.9004 - val_categorical_accuracy: 0.6522\n",
      "Epoch 8/100\n",
      "17/17 [==============================] - 81s 5s/step - loss: 0.6318 - categorical_accuracy: 0.7240 - val_loss: 0.6969 - val_categorical_accuracy: 0.7174\n",
      "Epoch 9/100\n",
      "17/17 [==============================] - 81s 5s/step - loss: 0.6835 - categorical_accuracy: 0.7010 - val_loss: 0.6551 - val_categorical_accuracy: 0.7826\n",
      "Epoch 10/100\n",
      "17/17 [==============================] - 81s 5s/step - loss: 0.4199 - categorical_accuracy: 0.8624 - val_loss: 0.6394 - val_categorical_accuracy: 0.7826\n",
      "Epoch 11/100\n",
      "17/17 [==============================] - 81s 5s/step - loss: 0.3595 - categorical_accuracy: 0.8519 - val_loss: 0.5746 - val_categorical_accuracy: 0.8478\n",
      "Epoch 12/100\n",
      "17/17 [==============================] - 81s 5s/step - loss: 0.2368 - categorical_accuracy: 0.9142 - val_loss: 0.5216 - val_categorical_accuracy: 0.8043\n",
      "Epoch 13/100\n",
      "17/17 [==============================] - 81s 5s/step - loss: 0.3179 - categorical_accuracy: 0.8975 - val_loss: 0.5328 - val_categorical_accuracy: 0.7826\n",
      "Epoch 14/100\n",
      "17/17 [==============================] - 80s 5s/step - loss: 0.1997 - categorical_accuracy: 0.9481 - val_loss: 0.4854 - val_categorical_accuracy: 0.8261\n",
      "Epoch 15/100\n",
      "17/17 [==============================] - 81s 5s/step - loss: 0.1511 - categorical_accuracy: 0.9375 - val_loss: 0.4218 - val_categorical_accuracy: 0.8478\n",
      "Epoch 16/100\n",
      "17/17 [==============================] - 81s 5s/step - loss: 0.2362 - categorical_accuracy: 0.9353 - val_loss: 0.6051 - val_categorical_accuracy: 0.7826\n",
      "Epoch 17/100\n",
      "17/17 [==============================] - 80s 5s/step - loss: 0.2197 - categorical_accuracy: 0.9489 - val_loss: 0.8842 - val_categorical_accuracy: 0.6957\n",
      "Epoch 18/100\n",
      "17/17 [==============================] - 79s 5s/step - loss: 0.1343 - categorical_accuracy: 0.9676 - val_loss: 0.6845 - val_categorical_accuracy: 0.8261\n",
      "Epoch 19/100\n",
      "17/17 [==============================] - 79s 5s/step - loss: 0.0494 - categorical_accuracy: 0.9852 - val_loss: 0.6616 - val_categorical_accuracy: 0.8261\n",
      "Epoch 20/100\n",
      "17/17 [==============================] - 80s 5s/step - loss: 0.0451 - categorical_accuracy: 0.9896 - val_loss: 0.5910 - val_categorical_accuracy: 0.8478\n"
     ]
    }
   ],
   "source": [
    "from tensorflow.keras.callbacks import EarlyStopping, ModelCheckpoint\n",
    "es = EarlyStopping(monitor='val_loss', mode='min', patience=5)\n",
    "mc = ModelCheckpoint(base_dir+'CNN_best_model.h5', monitor='val_loss', mode='min', save_best_only=True)\n",
    "histroy = model.fit(X_train, y_train, batch_size=16, epochs=100, callbacks=[es, mc], validation_split=0.15)"
   ]
  },
  {
   "cell_type": "code",
   "execution_count": 17,
   "metadata": {
    "colab": {
     "base_uri": "https://localhost:8080/"
    },
    "executionInfo": {
     "elapsed": 1635806,
     "status": "ok",
     "timestamp": 1611554281063,
     "user": {
      "displayName": "고낙헌",
      "photoUrl": "",
      "userId": "00320345697887287590"
     },
     "user_tz": -540
    },
    "id": "aXwssVIyRstR",
    "outputId": "0c985c3d-7252-4b24-bf54-13a9460bb4ea"
   },
   "outputs": [
    {
     "name": "stdout",
     "output_type": "stream",
     "text": [
      "4/4 [==============================] - 8s 2s/step - loss: 0.3718 - categorical_accuracy: 0.8431\n",
      "loss= 0.37181589007377625\n",
      "accuracy= 0.843137264251709\n"
     ]
    }
   ],
   "source": [
    "# 모델 평가하기 \n",
    "from tensorflow.keras.models import load_model\n",
    "model = load_model(base_dir+'CNN_best_model.h5')\n",
    "score = model.evaluate(X_test, y_test)\n",
    "print('loss=', score[0])        # loss\n",
    "print('accuracy=', score[1])    # acc"
   ]
  },
  {
   "cell_type": "code",
   "execution_count": 18,
   "metadata": {
    "colab": {
     "base_uri": "https://localhost:8080/"
    },
    "executionInfo": {
     "elapsed": 1637747,
     "status": "ok",
     "timestamp": 1611554283596,
     "user": {
      "displayName": "고낙헌",
      "photoUrl": "",
      "userId": "00320345697887287590"
     },
     "user_tz": -540
    },
    "id": "b5U1K-jiW5Ux",
    "outputId": "45e60965-54b4-4433-f56c-97dcaf17ff60"
   },
   "outputs": [
    {
     "name": "stdout",
     "output_type": "stream",
     "text": [
      "[[9.9503577e-01 4.6728225e-03 2.9147544e-04]]\n",
      "./pedestrian_test_1.jpg : pedestrian\n",
      "\n",
      "[[9.920399e-01 7.328899e-03 6.311176e-04]]\n",
      "./pedestrian_test_2.jpg : pedestrian\n",
      "\n",
      "[[0.82671595 0.0923548  0.08092932]]\n",
      "./pedestrian_test_3.jpg : pedestrian\n",
      "\n",
      "[[0.60183364 0.05594093 0.34222537]]\n",
      "./sitter_test_1.jpg : pedestrian\n",
      "\n",
      "[[0.6774644  0.18513665 0.13739893]]\n",
      "./sitter_test_2.jpg : pedestrian\n",
      "\n",
      "[[0.0036025  0.5966918  0.39970574]]\n",
      "./sitter_test_3.jpg : sitter\n",
      "\n",
      "[[0.00102873 0.30185717 0.6971141 ]]\n",
      "./taxier_test_1.jpg : taxier\n",
      "\n",
      "[[0.00708231 0.02131307 0.97160465]]\n",
      "./taxier_test_2.jpg : taxier\n",
      "\n",
      "[[0.00342804 0.04862165 0.94795036]]\n",
      "./taxier_test_3.jpg : taxier\n",
      "\n"
     ]
    }
   ],
   "source": [
    "from tensorflow.keras.models import load_model\n",
    "model = load_model(base_dir+'CNN_best_model.h5')\n",
    "\n",
    "for category in categories:\n",
    "    for i in range(1,4):\n",
    "        test_image = base_dir+category+'_test_'+str(i)+'.jpg'\n",
    "        \n",
    "        # 이미지 resize\n",
    "        img = Image.open(test_image)\n",
    "        img = img.convert(\"RGB\")\n",
    "        img = img.resize((500,500))\n",
    "        data = np.asarray(img)\n",
    "        X = np.array(data)\n",
    "        X = X.astype(\"float\") / 256\n",
    "        X = X.reshape(-1, 500,500,3)\n",
    "        \n",
    "        # 예측\n",
    "        pred = model.predict(X)\n",
    "        print(pred)\n",
    "        result = [np.argmax(value) for value in pred]   # 예측 값중 가장 높은 클래스 반환\n",
    "        print(test_image, ':',categories[result[0]])\n",
    "        print()"
   ]
  },
  {
   "cell_type": "code",
   "execution_count": null,
   "metadata": {
    "id": "q4vVxIrZcvP7"
   },
   "outputs": [],
   "source": []
  }
 ],
 "metadata": {
  "accelerator": "TPU",
  "colab": {
   "authorship_tag": "ABX9TyNNLzy8ygQYZ1epdgjUq+wG",
   "name": "Gesture Recognition.ipynb",
   "provenance": [],
   "toc_visible": true
  },
  "kernelspec": {
   "display_name": "Python 3",
   "language": "python",
   "name": "python3"
  },
  "language_info": {
   "codemirror_mode": {
    "name": "ipython",
    "version": 3
   },
   "file_extension": ".py",
   "mimetype": "text/x-python",
   "name": "python",
   "nbconvert_exporter": "python",
   "pygments_lexer": "ipython3",
   "version": "3.7.6"
  }
 },
 "nbformat": 4,
 "nbformat_minor": 1
}
