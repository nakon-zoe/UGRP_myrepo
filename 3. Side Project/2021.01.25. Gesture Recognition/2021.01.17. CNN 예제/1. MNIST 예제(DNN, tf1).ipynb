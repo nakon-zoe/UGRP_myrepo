{
 "cells": [
  {
   "cell_type": "markdown",
   "metadata": {},
   "source": [
    "# Tensorflow 불러오기"
   ]
  },
  {
   "cell_type": "code",
   "execution_count": 1,
   "metadata": {},
   "outputs": [],
   "source": [
    "import tensorflow as tf"
   ]
  },
  {
   "cell_type": "markdown",
   "metadata": {},
   "source": [
    "# MNIST 데이터셋 불러오기\n",
    "x_train, x_test는 28×28 픽셀의 각 손글씨 이미지 데이터이고, y_train, y_test는 분류에 사용되는 0~9 사이의 레이블 값을 갖는다."
   ]
  },
  {
   "cell_type": "code",
   "execution_count": 2,
   "metadata": {},
   "outputs": [],
   "source": [
    "mnist = tf.keras.datasets.mnist\n",
    "(X_train, y_train), (X_test, y_test) = mnist.load_data()"
   ]
  },
  {
   "cell_type": "markdown",
   "metadata": {},
   "source": [
    "# 데이터 전처리\n",
    "0~255.0 사이의 값을 갖는 픽셀값들을 0~1.0 사이의 값을 갖도록 변환한다."
   ]
  },
  {
   "cell_type": "code",
   "execution_count": 3,
   "metadata": {},
   "outputs": [],
   "source": [
    "X_train, X_test = X_train/255.0, X_test/255.0"
   ]
  },
  {
   "cell_type": "markdown",
   "metadata": {},
   "source": [
    "# 모델 구성\n",
    "tf.keras.models.Sequential()을 이용해서 인공신경망 모델을 구성한다.<br>\n",
    "입력층(Input layer)에서 Flatten()을 이용해서 28×28 픽셀의 값을 784개의 1차원 배열로 변환한다.<br>\n",
    "다음 두 개의 뉴런 층(Neuron layer)은 Dense()를 이용해서 완전 연결된 층(Fully-connected layer)을 구성한다.<br>\n",
    "각 층은 512개와 10개의 인공 뉴런 노드를 갖고 활성화 함수(activation function)로는 각각 ReLU(tf.nn.relu)와 소프트맥스(tf.nn.softmax)를 사용한다."
   ]
  },
  {
   "cell_type": "code",
   "execution_count": 4,
   "metadata": {},
   "outputs": [
    {
     "name": "stdout",
     "output_type": "stream",
     "text": [
      "WARNING:tensorflow:From C:\\Users\\nakhe\\Anaconda3\\envs\\tensor1_gpu\\lib\\site-packages\\tensorflow\\python\\ops\\resource_variable_ops.py:435: colocate_with (from tensorflow.python.framework.ops) is deprecated and will be removed in a future version.\n",
      "Instructions for updating:\n",
      "Colocations handled automatically by placer.\n"
     ]
    }
   ],
   "source": [
    "model = tf.keras.models.Sequential([\n",
    "    tf.keras.layers.Flatten(input_shape=(28, 28)),\n",
    "    tf.keras.layers.Dense(512, activation=tf.nn.relu),\n",
    "    tf.keras.layers.Dense(10, activation=tf.nn.softmax)\n",
    "])"
   ]
  },
  {
   "cell_type": "markdown",
   "metadata": {},
   "source": [
    "# 모델 컴파일\n",
    "학습 과정에서 손실 함수(Loss function)를 줄이기 위해 사용되는 optimizer로는 Adam(Adaptive Momentum estimation)을 사용한다.<br>\n",
    "손실 함수는 'sparse_categorical_crossentropy'를 지정하고, 평가 지표로는 정확도(accuracy)를 사용한다.<br>"
   ]
  },
  {
   "cell_type": "code",
   "execution_count": 5,
   "metadata": {},
   "outputs": [],
   "source": [
    "model.compile(optimizer='adam',\n",
    "              loss='sparse_categorical_crossentropy',\n",
    "              metrics=['accuracy'])"
   ]
  },
  {
   "cell_type": "markdown",
   "metadata": {},
   "source": [
    "# 모델 훈련\n",
    "model.fit() 메서드에 학습 데이터와 레이블, 에포크를 순서대로 입력하면, 학습이 이루어진다.<br>\n",
    "에포크(epoch)는 60,000개의 전체 학습 데이터를 몇 번 반복해서 학습할지를 의미한다."
   ]
  },
  {
   "cell_type": "code",
   "execution_count": 6,
   "metadata": {},
   "outputs": [
    {
     "name": "stdout",
     "output_type": "stream",
     "text": [
      "Epoch 1/5\n",
      "60000/60000 [==============================] - 9s 155us/sample - loss: 0.2041 - acc: 0.9391\n",
      "Epoch 2/5\n",
      "60000/60000 [==============================] - 9s 144us/sample - loss: 0.0811 - acc: 0.9749\n",
      "Epoch 3/5\n",
      "60000/60000 [==============================] - 8s 132us/sample - loss: 0.0536 - acc: 0.9835\n",
      "Epoch 4/5\n",
      "60000/60000 [==============================] - 9s 149us/sample - loss: 0.0375 - acc: 0.9881s - loss: 0.0375 - a\n",
      "Epoch 5/5\n",
      "60000/60000 [==============================] - 12s 192us/sample - loss: 0.0263 - acc: 0.9918\n",
      "Wall time: 49.2 s\n"
     ]
    },
    {
     "data": {
      "text/plain": [
       "<tensorflow.python.keras.callbacks.History at 0x1f0801feeb8>"
      ]
     },
     "execution_count": 6,
     "metadata": {},
     "output_type": "execute_result"
    }
   ],
   "source": [
    "%%time\n",
    "model.fit(X_train, y_train, epochs=5)"
   ]
  },
  {
   "cell_type": "markdown",
   "metadata": {},
   "source": [
    "# 정확도 평가"
   ]
  },
  {
   "cell_type": "code",
   "execution_count": 7,
   "metadata": {},
   "outputs": [
    {
     "name": "stdout",
     "output_type": "stream",
     "text": [
      "10000/10000 [==============================] - 1s 112us/sample - loss: 0.0712 - acc: 0.9778\n",
      "테스트 정확도: 0.9778\n"
     ]
    }
   ],
   "source": [
    "test_loss, test_acc = model.evaluate(X_test, y_test)\n",
    "print('테스트 정확도:', test_acc)"
   ]
  },
  {
   "cell_type": "code",
   "execution_count": 8,
   "metadata": {
    "scrolled": false
   },
   "outputs": [
    {
     "name": "stdout",
     "output_type": "stream",
     "text": [
      "60000/60000 [==============================] - 11s 177us/sample - loss: 0.0217 - acc: 0.9929\n",
      "10000/10000 [==============================] - 1s 75us/sample - loss: 0.0722 - acc: 0.9793\n",
      "10000/10000 [==============================] - 1s 69us/sample - loss: 0.0722 - acc: 0.9793\n",
      "60000/60000 [==============================] - 9s 145us/sample - loss: 0.0179 - acc: 0.9939\n",
      "10000/10000 [==============================] - 1s 59us/sample - loss: 0.0720 - acc: 0.9803\n",
      "10000/10000 [==============================] - 1s 61us/sample - loss: 0.0720 - acc: 0.9803\n",
      "60000/60000 [==============================] - 9s 158us/sample - loss: 0.0151 - acc: 0.9951\n",
      "10000/10000 [==============================] - 1s 63us/sample - loss: 0.0920 - acc: 0.9757\n",
      "10000/10000 [==============================] - 1s 57us/sample - loss: 0.0920 - acc: 0.9757\n",
      "60000/60000 [==============================] - 8s 141us/sample - loss: 0.0127 - acc: 0.9958\n",
      "10000/10000 [==============================] - 1s 83us/sample - loss: 0.0835 - acc: 0.9789\n",
      "10000/10000 [==============================] - 1s 79us/sample - loss: 0.0835 - acc: 0.9789\n",
      "60000/60000 [==============================] - 9s 142us/sample - loss: 0.0108 - acc: 0.9965\n",
      "10000/10000 [==============================] - 1s 60us/sample - loss: 0.0837 - acc: 0.9803\n",
      "10000/10000 [==============================] - 1s 60us/sample - loss: 0.0837 - acc: 0.9803\n",
      "60000/60000 [==============================] - 8s 133us/sample - loss: 0.0107 - acc: 0.9972\n",
      "10000/10000 [==============================] - 1s 65us/sample - loss: 0.0886 - acc: 0.9806\n",
      "10000/10000 [==============================] - 1s 59us/sample - loss: 0.0886 - acc: 0.9806\n",
      "60000/60000 [==============================] - 8s 139us/sample - loss: 0.0091 - acc: 0.9971\n",
      "10000/10000 [==============================] - 1s 70us/sample - loss: 0.0819 - acc: 0.9819\n",
      "10000/10000 [==============================] - 1s 60us/sample - loss: 0.0819 - acc: 0.9819\n",
      "60000/60000 [==============================] - 8s 134us/sample - loss: 0.0069 - acc: 0.9978\n",
      "10000/10000 [==============================] - 1s 55us/sample - loss: 0.0965 - acc: 0.9813\n",
      "10000/10000 [==============================] - 1s 61us/sample - loss: 0.0965 - acc: 0.9813\n",
      "60000/60000 [==============================] - 8s 129us/sample - loss: 0.0108 - acc: 0.9963\n",
      "10000/10000 [==============================] - 1s 55us/sample - loss: 0.0932 - acc: 0.9798\n",
      "10000/10000 [==============================] - 1s 53us/sample - loss: 0.0932 - acc: 0.9798\n",
      "60000/60000 [==============================] - 9s 156us/sample - loss: 0.0058 - acc: 0.9981\n",
      "10000/10000 [==============================] - 1s 64us/sample - loss: 0.0961 - acc: 0.9823\n",
      "10000/10000 [==============================] - 1s 68us/sample - loss: 0.0961 - acc: 0.9823\n",
      "[0.9793, 0.9803, 0.9757, 0.9789, 0.9803, 0.9806, 0.9819, 0.9813, 0.9798, 0.9823]\n",
      "Wall time: 1min 40s\n"
     ]
    }
   ],
   "source": [
    "%%time\n",
    "loss, accuracy = [], []\n",
    "for i in range(10):\n",
    "    model.fit(X_train, y_train, epochs=1)\n",
    "    loss.append(model.evaluate(X_test, y_test)[0])\n",
    "    accuracy.append(model.evaluate(X_test, y_test)[1])\n",
    "\n",
    "print(accuracy)"
   ]
  },
  {
   "cell_type": "code",
   "execution_count": 12,
   "metadata": {},
   "outputs": [],
   "source": [
    "model.save('MNIST_DNN.h5')"
   ]
  },
  {
   "cell_type": "markdown",
   "metadata": {},
   "source": [
    "# 손글씨 인식 프로그램"
   ]
  },
  {
   "cell_type": "code",
   "execution_count": 1,
   "metadata": {},
   "outputs": [],
   "source": [
    "import sys\n",
    "from PyQt5.QtWidgets import *\n",
    "from PyQt5.QtGui import *\n",
    "from PyQt5.QtCore import *\n",
    "import numpy as np\n",
    "import tensorflow as tf\n",
    "\n",
    "class MyApp(QMainWindow):\n",
    "\n",
    "    def __init__(self):\n",
    "        super().__init__()\n",
    "        self.image = QImage(QSize(400, 400), QImage.Format_RGB32)\n",
    "        self.image.fill(Qt.white)\n",
    "        self.drawing = False\n",
    "        self.brush_size = 30\n",
    "        self.brush_color = Qt.black\n",
    "        self.last_point = QPoint()\n",
    "        self.loaded_model = None\n",
    "        self.initUI()\n",
    "\n",
    "    def initUI(self):\n",
    "        menubar = self.menuBar()\n",
    "        menubar.setNativeMenuBar(False)\n",
    "        filemenu = menubar.addMenu('File')\n",
    "\n",
    "        load_model_action = QAction('Load model', self)\n",
    "        load_model_action.setShortcut('Ctrl+L')\n",
    "        load_model_action.triggered.connect(self.load_model)\n",
    "\n",
    "        save_action = QAction('Save', self)\n",
    "        save_action.setShortcut('Ctrl+S')\n",
    "        save_action.triggered.connect(self.save)\n",
    "\n",
    "        clear_action = QAction('Clear', self)\n",
    "        clear_action.setShortcut('Ctrl+C')\n",
    "        clear_action.triggered.connect(self.clear)\n",
    "\n",
    "        filemenu.addAction(load_model_action)\n",
    "        filemenu.addAction(save_action)\n",
    "        filemenu.addAction(clear_action)\n",
    "\n",
    "        self.statusbar = self.statusBar()\n",
    "\n",
    "        self.setWindowTitle('MNIST Classifier')\n",
    "        self.setGeometry(300, 300, 400, 400)\n",
    "        self.show()\n",
    "\n",
    "    def paintEvent(self, e):\n",
    "        canvas = QPainter(self)\n",
    "        canvas.drawImage(self.rect(), self.image, self.image.rect())\n",
    "\n",
    "    def mousePressEvent(self, e):\n",
    "        if e.button() == Qt.LeftButton:\n",
    "            self.drawing = True\n",
    "            self.last_point = e.pos()\n",
    "\n",
    "    def mouseMoveEvent(self, e):\n",
    "        if (e.buttons() & Qt.LeftButton) & self.drawing:\n",
    "            painter = QPainter(self.image)\n",
    "            painter.setPen(QPen(self.brush_color, self.brush_size, Qt.SolidLine, Qt.RoundCap))\n",
    "            painter.drawLine(self.last_point, e.pos())\n",
    "            self.last_point = e.pos()\n",
    "            self.update()\n",
    "\n",
    "    def mouseReleaseEvent(self, e):\n",
    "        if e.button() == Qt.LeftButton:\n",
    "            self.drawing = False\n",
    "\n",
    "            arr = np.zeros((28, 28))\n",
    "            for i in range(28):\n",
    "                for j in range(28):\n",
    "                    arr[j, i] = 1 - self.image.scaled(28, 28).pixelColor(i, j).getRgb()[0] / 255.0\n",
    "            arr = arr.reshape(-1, 28, 28)\n",
    "\n",
    "            if self.loaded_model:\n",
    "                pred = self.loaded_model.predict(arr)[0]\n",
    "                pred_num = str(np.argmax(pred))\n",
    "                self.statusbar.showMessage('숫자 ' + pred_num + '입니다.')\n",
    "\n",
    "    def load_model(self):\n",
    "        fname, _ = QFileDialog.getOpenFileName(self, 'Load Model', '')\n",
    "\n",
    "        if fname:\n",
    "            self.loaded_model = tf.keras.models.load_model(fname)\n",
    "            self.statusbar.showMessage('Model loaded.')\n",
    "\n",
    "    def save(self):\n",
    "        fpath, _ = QFileDialog.getSaveFileName(self, 'Save Image', '', \"PNG(*.png);;JPEG(*.jpg *.jpeg);;All Files(*.*) \")\n",
    "\n",
    "        if fpath:\n",
    "            self.image.scaled(28, 28).save(fpath)\n",
    "\n",
    "    def clear(self):\n",
    "        self.image.fill(Qt.white)\n",
    "        self.update()\n",
    "        self.statusbar.clearMessage()"
   ]
  },
  {
   "cell_type": "code",
   "execution_count": 2,
   "metadata": {},
   "outputs": [
    {
     "name": "stdout",
     "output_type": "stream",
     "text": [
      "WARNING:tensorflow:From C:\\Users\\nakhe\\Anaconda3\\envs\\tensor1_gpu\\lib\\site-packages\\tensorflow\\python\\ops\\resource_variable_ops.py:435: colocate_with (from tensorflow.python.framework.ops) is deprecated and will be removed in a future version.\n",
      "Instructions for updating:\n",
      "Colocations handled automatically by placer.\n"
     ]
    },
    {
     "ename": "SystemExit",
     "evalue": "0",
     "output_type": "error",
     "traceback": [
      "An exception has occurred, use %tb to see the full traceback.\n",
      "\u001b[1;31mSystemExit\u001b[0m\u001b[1;31m:\u001b[0m 0\n"
     ]
    },
    {
     "name": "stderr",
     "output_type": "stream",
     "text": [
      "C:\\Users\\nakhe\\Anaconda3\\envs\\tensor1_gpu\\lib\\site-packages\\IPython\\core\\interactiveshell.py:2969: UserWarning: To exit: use 'exit', 'quit', or Ctrl-D.\n",
      "  warn(\"To exit: use 'exit', 'quit', or Ctrl-D.\", stacklevel=1)\n"
     ]
    }
   ],
   "source": [
    "if __name__ == '__main__':\n",
    "    app = QApplication(sys.argv)\n",
    "    ex = MyApp()\n",
    "    sys.exit(app.exec_())"
   ]
  }
 ],
 "metadata": {
  "kernelspec": {
   "display_name": "Python 3",
   "language": "python",
   "name": "python3"
  },
  "language_info": {
   "codemirror_mode": {
    "name": "ipython",
    "version": 3
   },
   "file_extension": ".py",
   "mimetype": "text/x-python",
   "name": "python",
   "nbconvert_exporter": "python",
   "pygments_lexer": "ipython3",
   "version": "3.7.0"
  }
 },
 "nbformat": 4,
 "nbformat_minor": 2
}
