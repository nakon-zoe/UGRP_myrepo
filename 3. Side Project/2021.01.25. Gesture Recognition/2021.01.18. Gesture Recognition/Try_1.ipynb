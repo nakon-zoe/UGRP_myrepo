{
 "cells": [
  {
   "cell_type": "markdown",
   "metadata": {},
   "source": [
    "# 원본 데이터셋에 관절 입히기 (배경 O)"
   ]
  },
  {
   "cell_type": "code",
   "execution_count": 3,
   "metadata": {},
   "outputs": [],
   "source": [
    "import easydict\n",
    "import warnings\n",
    "warnings.filterwarnings(action='ignore')"
   ]
  },
  {
   "cell_type": "code",
   "execution_count": 4,
   "metadata": {},
   "outputs": [],
   "source": [
    "import tensorflow as tf\n",
    "import cv2\n",
    "import time\n",
    "import posenet\n",
    "import os"
   ]
  },
  {
   "cell_type": "code",
   "execution_count": 7,
   "metadata": {},
   "outputs": [],
   "source": [
    "Data_list = ['1. Pedestrian', '2. Lier', '3. Sitter', '4. Taxier', '5. Blocker']\n",
    "\n",
    "for item_class in Data_list:\n",
    "    args = easydict.EasyDict({\n",
    "        \"model\": 101,\n",
    "        \"scale_factor\": 1.0,\n",
    "        \"notxt\": 'store_true',\n",
    "        \"image_dir\": './1. Original_Datasets/{}'.format(item_class),\n",
    "        \"output_dir\": './2. Jointed_Datasets/{}'.format(item_class)\n",
    "    })\n",
    "    \n",
    "    with tf.Session() as sess:\n",
    "        model_cfg, model_outputs = posenet.load_model(args.model, sess)\n",
    "        output_stride = model_cfg['output_stride']\n",
    "\n",
    "        if args.output_dir:\n",
    "            if not os.path.exists(args.output_dir):\n",
    "                os.makedirs(args.output_dir)\n",
    "\n",
    "        filenames = [\n",
    "            f.path for f in os.scandir(args.image_dir) if f.is_file() and f.path.endswith(('.png', '.jpg', '.bmp'))]\n",
    "\n",
    "        start = time.time()\n",
    "        for f in filenames:\n",
    "            input_image, draw_image, output_scale = posenet.read_imgfile(\n",
    "                f, scale_factor=args.scale_factor, output_stride=output_stride)\n",
    "\n",
    "            heatmaps_result, offsets_result, displacement_fwd_result, displacement_bwd_result = sess.run(\n",
    "                model_outputs,\n",
    "                feed_dict={'image:0': input_image}\n",
    "            )\n",
    "\n",
    "            pose_scores, keypoint_scores, keypoint_coords = posenet.decode_multiple_poses(\n",
    "                heatmaps_result.squeeze(axis=0),\n",
    "                offsets_result.squeeze(axis=0),\n",
    "                displacement_fwd_result.squeeze(axis=0),\n",
    "                displacement_bwd_result.squeeze(axis=0),\n",
    "                output_stride=output_stride,\n",
    "                max_pose_detections=10,\n",
    "                min_pose_score=0.25)\n",
    "\n",
    "            keypoint_coords *= output_scale\n",
    "\n",
    "            if args.output_dir:\n",
    "                draw_image = posenet.draw_skel_and_kp(\n",
    "                    draw_image, pose_scores, keypoint_scores, keypoint_coords,\n",
    "                    min_pose_score=0.25, min_part_score=0.25)\n",
    "\n",
    "                cv2.imwrite(os.path.join(args.output_dir, os.path.relpath(f, args.image_dir)), draw_image)\n",
    "\n",
    "            if not args.notxt:\n",
    "                print()\n",
    "                print(\"Results for image: %s\" % f)\n",
    "                for pi in range(len(pose_scores)):\n",
    "                    if pose_scores[pi] == 0.:\n",
    "                        break\n",
    "                    print('Pose #%d, score = %f' % (pi, pose_scores[pi]))\n",
    "                    for ki, (s, c) in enumerate(zip(keypoint_scores[pi, :], keypoint_coords[pi, :, :])):\n",
    "                        print('Keypoint %s, score = %f, coord = %s' % (posenet.PART_NAMES[ki], s, c))\n",
    "\n",
    "       # print('Average FPS:', len(filenames) / (time.time() - start))"
   ]
  },
  {
   "cell_type": "code",
   "execution_count": null,
   "metadata": {},
   "outputs": [],
   "source": []
  }
 ],
 "metadata": {
  "kernelspec": {
   "display_name": "Python 3",
   "language": "python",
   "name": "python3"
  },
  "language_info": {
   "codemirror_mode": {
    "name": "ipython",
    "version": 3
   },
   "file_extension": ".py",
   "mimetype": "text/x-python",
   "name": "python",
   "nbconvert_exporter": "python",
   "pygments_lexer": "ipython3",
   "version": "3.7.0"
  }
 },
 "nbformat": 4,
 "nbformat_minor": 2
}
