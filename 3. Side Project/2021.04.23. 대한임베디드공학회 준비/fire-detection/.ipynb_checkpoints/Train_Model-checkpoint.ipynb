{
 "cells": [
  {
   "cell_type": "code",
   "execution_count": 1,
   "id": "optional-fisher",
   "metadata": {},
   "outputs": [
    {
     "name": "stdout",
     "output_type": "stream",
     "text": [
      "Found 2780 images belonging to 2 classes.\n",
      "Found 239 images belonging to 2 classes.\n"
     ]
    }
   ],
   "source": [
    "import tensorflow as tf\n",
    "import keras_preprocessing\n",
    "from keras_preprocessing import image\n",
    "from keras_preprocessing.image import ImageDataGenerator\n",
    "TRAINING_DIR = \"datasets/Train\"\n",
    "training_datagen = ImageDataGenerator(rescale = 1./255,\n",
    "                                  horizontal_flip=True,\n",
    "                                  rotation_range=30,\n",
    "                                  height_shift_range=0.2,\n",
    "                                  fill_mode='nearest')\n",
    "VALIDATION_DIR = \"datasets/Validation\"\n",
    "validation_datagen = ImageDataGenerator(rescale = 1./255)\n",
    "train_generator = training_datagen.flow_from_directory(TRAINING_DIR,\n",
    "                                         target_size=(224,224),\n",
    "                                         class_mode='categorical',\n",
    "                                         batch_size = 64)\n",
    "validation_generator = validation_datagen.flow_from_directory(      \n",
    "                                           VALIDATION_DIR,\n",
    "                                           target_size=(224,224),\n",
    "                                           class_mode='categorical',\n",
    "                                           batch_size= 16)"
   ]
  },
  {
   "cell_type": "code",
   "execution_count": null,
   "id": "atlantic-medication",
   "metadata": {},
   "outputs": [
    {
     "name": "stdout",
     "output_type": "stream",
     "text": [
      "Epoch 1/50\n"
     ]
    }
   ],
   "source": [
    "from tensorflow.keras.optimizers import Adam\n",
    "model = tf.keras.models.Sequential([\n",
    "tf.keras.layers.Conv2D(96, (11,11), strides=(4,4), activation='relu', input_shape=(224, 224, 3)), tf.keras.layers.MaxPooling2D(pool_size = (3,3), strides=(2,2)),\n",
    "tf.keras.layers.Conv2D(256, (5,5), activation='relu'),\n",
    "tf.keras.layers.MaxPooling2D(pool_size = (3,3), strides=(2,2)),\n",
    "tf.keras.layers.Conv2D(384, (5,5), activation='relu'),\n",
    "tf.keras.layers.MaxPooling2D(pool_size = (3,3), strides=(2,2)),\n",
    "tf.keras.layers.Flatten(),\n",
    "tf.keras.layers.Dropout(0.2),\n",
    "tf.keras.layers.Dense(2048, activation='relu'),\n",
    "tf.keras.layers.Dropout(0.25),\n",
    "tf.keras.layers.Dense(1024, activation='relu'),\n",
    "tf.keras.layers.Dropout(0.2),\n",
    "tf.keras.layers.Dense(2, activation='softmax')])\n",
    "model.compile(loss='categorical_crossentropy',\n",
    "optimizer=Adam(lr=0.0001),\n",
    "metrics=['acc'])\n",
    "history = model.fit(\n",
    "train_generator,\n",
    "steps_per_epoch = 15,\n",
    "epochs = 50,\n",
    "validation_data = validation_generator,\n",
    ")"
   ]
  },
  {
   "cell_type": "code",
   "execution_count": null,
   "id": "velvet-shame",
   "metadata": {},
   "outputs": [],
   "source": []
  }
 ],
 "metadata": {
  "kernelspec": {
   "display_name": "Python 3",
   "language": "python",
   "name": "python3"
  },
  "language_info": {
   "codemirror_mode": {
    "name": "ipython",
    "version": 3
   },
   "file_extension": ".py",
   "mimetype": "text/x-python",
   "name": "python",
   "nbconvert_exporter": "python",
   "pygments_lexer": "ipython3",
   "version": "3.7.0"
  }
 },
 "nbformat": 4,
 "nbformat_minor": 5
}
